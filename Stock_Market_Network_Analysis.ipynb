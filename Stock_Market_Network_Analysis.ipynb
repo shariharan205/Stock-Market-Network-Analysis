{
 "cells": [
  {
   "cell_type": "markdown",
   "metadata": {},
   "source": [
    "<h1> Stock Market Graph Analysis </h1>"
   ]
  },
  {
   "cell_type": "code",
   "execution_count": 2,
   "metadata": {},
   "outputs": [],
   "source": [
    "library('igraph')\n",
    "library('dplyr')\n",
    "library('anytime')"
   ]
  },
  {
   "cell_type": "code",
   "execution_count": 3,
   "metadata": {},
   "outputs": [],
   "source": [
    "num_days = 765\n",
    "list_files <- list.files(path = \"finance_data/data/\", pattern = \"*.csv\")"
   ]
  },
  {
   "cell_type": "markdown",
   "metadata": {},
   "source": [
    "<h2> Helper Functions </h2>"
   ]
  },
  {
   "cell_type": "code",
   "execution_count": 4,
   "metadata": {},
   "outputs": [],
   "source": [
    "get_return = function(a, unnormalize = FALSE){\n",
    "    \n",
    "    pi_t = a\n",
    "    \n",
    "    pi_t_1 = c(pi_t[1], pi_t)\n",
    "    pi_t_1 = pi_t_1[1:(length(pi_t_1)-1)]\n",
    "    \n",
    "    qi_t = (pi_t - pi_t_1) / pi_t_1\n",
    "    \n",
    "    r_t = log(1 + qi_t)\n",
    "    \n",
    "    if(unnormalize)\n",
    "        return(qi_t)\n",
    "    else\n",
    "        return(r_t)\n",
    "}"
   ]
  }
 ],
 "metadata": {
  "kernelspec": {
   "display_name": "R",
   "language": "R",
   "name": "ir"
  },
  "language_info": {
   "codemirror_mode": "r",
   "file_extension": ".r",
   "mimetype": "text/x-r-source",
   "name": "R",
   "pygments_lexer": "r",
   "version": "3.4.3"
  }
 },
 "nbformat": 4,
 "nbformat_minor": 2
}
