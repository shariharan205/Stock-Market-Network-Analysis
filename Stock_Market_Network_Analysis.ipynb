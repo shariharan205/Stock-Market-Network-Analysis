{
 "cells": [
  {
   "cell_type": "markdown",
   "metadata": {},
   "source": [
    "<h1> Stock Market Graph Analysis </h1>"
   ]
  },
  {
   "cell_type": "code",
   "execution_count": 2,
   "metadata": {},
   "outputs": [],
   "source": [
    "library('igraph')\n",
    "library('dplyr')\n",
    "library('anytime')"
   ]
  },
  {
   "cell_type": "code",
   "execution_count": 3,
   "metadata": {},
   "outputs": [],
   "source": [
    "num_days = 765\n",
    "list_files <- list.files(path = \"finance_data/data/\", pattern = \"*.csv\")"
   ]
  },
  {
   "cell_type": "markdown",
   "metadata": {},
   "source": [
    "<h2> Helper Functions </h2>"
   ]
  },
  {
   "cell_type": "code",
   "execution_count": 4,
   "metadata": {},
   "outputs": [],
   "source": [
    "get_return = function(a, unnormalize = FALSE){\n",
    "    \n",
    "    pi_t = a\n",
    "    \n",
    "    pi_t_1 = c(pi_t[1], pi_t)\n",
    "    pi_t_1 = pi_t_1[1:(length(pi_t_1)-1)]\n",
    "    \n",
    "    qi_t = (pi_t - pi_t_1) / pi_t_1\n",
    "    \n",
    "    r_t = log(1 + qi_t)\n",
    "    \n",
    "    if(unnormalize)\n",
    "        return(qi_t)\n",
    "    else\n",
    "        return(r_t)\n",
    "}"
   ]
  },
  {
   "cell_type": "code",
   "execution_count": 5,
   "metadata": {},
   "outputs": [],
   "source": [
    "get_correlation = function(i, j){\n",
    "    \n",
    "    num = mean(i*j) - mean(i) * mean(j)\n",
    "    den = (mean(i^2) - mean(i)^2) * (mean(j^2) - mean(j)^2)\n",
    "    return(num / sqrt(den))\n",
    "    \n",
    "}"
   ]
  },
  {
   "cell_type": "code",
   "execution_count": 6,
   "metadata": {},
   "outputs": [],
   "source": [
    "get_edge_list = function(stock_returns, file_name){\n",
    "    \n",
    "    \n",
    "    file.create(file_name)\n",
    "    stocks <- names(stock_returns)\n",
    "    edge_list <- data.frame(matrix(ncol = 3, nrow = 0))\n",
    "    x <- c(\"stock_i\", \"stock_j\", \"weight\")\n",
    "    colnames(edge_list) <- x\n",
    "\n",
    "    for(i in 1:(length(stocks)-1)){\n",
    "        for(j in (i+1):length(stocks)){\n",
    "            corr = get_correlation(stock_returns[[i]], stock_returns[[j]])\n",
    "            weight = sqrt(2*(1 - corr))\n",
    "            #edge_list <- rbind(edge_list, data.frame(\"stock_i\" = stocks[i],  \"stock_j\" = stocks[j], \"weight\" = weight))\n",
    "            cat(paste(stocks[i],stocks[j],weight,\"\\n\",sep = \"\\t\"), file = file_name, append = TRUE)\n",
    "            \n",
    "        }\n",
    "    }\n",
    "}"
   ]
  },
  {
   "cell_type": "code",
   "execution_count": 7,
   "metadata": {},
   "outputs": [],
   "source": [
    "get_stock_returns = function(unnormalize_flag = FALSE){\n",
    "    \n",
    "    stock_returns <- list()\n",
    "\n",
    "    for(file_name in list_files){\n",
    "\n",
    "        stock <- read.csv(paste(\"finance_data/data/\", file_name, sep = \"\"))\n",
    "        close <- unlist(stock['Close'])\n",
    "\n",
    "        if(length(close) == num_days)\n",
    "            stock_returns[[gsub(pattern = \"\\\\.csv$\", \"\", file_name)]] <- get_return(close, unnormalize =  unnormalize_flag)\n",
    "    }\n",
    "\n",
    "        return(stock_returns)\n",
    "\n",
    "}"
   ]
  },
  {
   "cell_type": "code",
   "execution_count": 83,
   "metadata": {},
   "outputs": [],
   "source": [
    "get_edge_list(get_stock_returns(), \"stock_edge_list.txt\")"
   ]
  },
  {
   "cell_type": "code",
   "execution_count": 4,
   "metadata": {},
   "outputs": [],
   "source": [
    "edge_list <- as.matrix(read.table('stock_edge_list.txt', sep = \"\\t\", \n",
    "                                         header = FALSE, quote = \"\", check.names = FALSE))\n",
    "colnames(edge_list) = c(\"stock_i\", \"stock_j\", \"weight\", \"\\t\")\n",
    "stock_network = graph.data.frame(edge_list, directed=FALSE)"
   ]
  },
  {
   "cell_type": "markdown",
   "metadata": {},
   "source": [
    "<h2> Graph Properties </h2>"
   ]
  },
  {
   "cell_type": "code",
   "execution_count": 5,
   "metadata": {},
   "outputs": [
    {
     "name": "stdout",
     "output_type": "stream",
     "text": [
      "Is graph weighted?  TRUE\n",
      "Number of edges in the correlation graph =  121771\n",
      "Number of vertices in the correlation graph =  494"
     ]
    }
   ],
   "source": [
    "cat(\"Is graph weighted? \", is_weighted(stock_network))\n",
    "cat(\"\\nNumber of edges in the correlation graph = \", length(E(stock_network)))\n",
    "cat(\"\\nNumber of vertices in the correlation graph = \", length(V(stock_network)))"
   ]
  },
  {
   "cell_type": "code",
   "execution_count": 6,
   "metadata": {},
   "outputs": [
    {
     "data": {
      "image/png": "[encoded data removed]",
      "text/plain": [
       "Plot with title \"Degree distribution\""
      ]
     },
     "metadata": {},
     "output_type": "display_data"
    }
   ],
   "source": [
    "degree <- degree(stock_network, v = V(stock_network))\n",
    "hist(degree, breaks = seq(from = 0, to = max(degree) + 1, by = 1), freq = F,\n",
    " main = 'Degree distribution', xlab = \"Degree\")"
   ]
  },
  {
   "cell_type": "code",
   "execution_count": 13,
   "metadata": {},
   "outputs": [
    {
     "data": {
      "image/png": "[encoded data removed]",
      "text/plain": [
       "Plot with title \"Degree Distribution\""
      ]
     },
     "metadata": {},
     "output_type": "display_data"
    }
   ],
   "source": [
    "degree_distribution <- degree(stock_network)\n",
    "histogram <- hist(degree_distribution, breaks=seq(from=490, to=500, by=1),\n",
    "                  xlim=c(0,1200), ylim=c(250,500), \n",
    "                  xlab=\"Degree\",ylab=\"Frequency\", main=\"Degree Distribution\")\n",
    "text(histogram$mids,histogram$counts-1,labels=histogram$counts-1, adj=c(0.5, -0.5))"
   ]
  },
  {
   "cell_type": "markdown",
   "metadata": {},
   "source": [
    "<h2> Correlation graph </h2>"
   ]
  },
  {
   "cell_type": "code",
   "execution_count": 92,
   "metadata": {},
   "outputs": [
    {
     "data": {
      "image/png": "[encoded data removed]",
      "text/plain": [
       "Plot with title \"Histogram of Correlation Graph Edge Weights\""
      ]
     },
     "metadata": {},
     "output_type": "display_data"
    }
   ],
   "source": [
    "hist(as.numeric(edge_list[, 3]), xlab = \"Edge Weight\", main = \"Histogram of Correlation Graph Edge Weights\")"
   ]
  },
  {
   "cell_type": "code",
   "execution_count": null,
   "metadata": {},
   "outputs": [],
   "source": [
    "get_edge_list(get_stock_returns(unnormalize_flag = TRUE), \"stock_edge_list_unnormalized.txt\")\n",
    "\n",
    "edge_list_unnormalized <- as.matrix(read.table(\"stock_edge_list_unnormalized.txt\", sep = \"\\t\", \n",
    "                                         header = FALSE, quote = \"\", check.names = FALSE))\n",
    "colnames(edge_list_unnormalized) = c(\"stock_i\", \"stock_j\", \"weight\", \"\\t\")\n",
    "stock_network_unnormalized = graph.data.frame(edge_list_unnormalized, directed=FALSE)"
   ]
  },
  {
   "cell_type": "code",
   "execution_count": 513,
   "metadata": {},
   "outputs": [
    {
     "data": {
      "image/png": "[encoded data removed]",
      "text/plain": [
       "Plot with title \"Histogram of Correlation Graph Un-normalized Edge Weights\""
      ]
     },
     "metadata": {},
     "output_type": "display_data"
    }
   ],
   "source": [
    "hist(as.numeric(edge_list_unnormalized[, 3]),\n",
    "     xlab = \"Edge Weight\", main = \"Histogram of Correlation Graph Un-normalized Edge Weights\")"
   ]
  },
  {
   "cell_type": "markdown",
   "metadata": {},
   "source": [
    "<h2> Minimum Spanning Tree of Correlation Graph </h2>"
   ]
  },
  {
   "cell_type": "code",
   "execution_count": 75,
   "metadata": {},
   "outputs": [
    {
     "name": "stdout",
     "output_type": "stream",
     "text": [
      "Number of edges in the MST of correlation graph =  493"
     ]
    }
   ],
   "source": [
    "stock_mst = mst(stock_network)\n",
    "cat(\"Number of edges in the MST of correlation graph = \", length(E(stock_mst)))"
   ]
  },
  {
   "cell_type": "code",
   "execution_count": 76,
   "metadata": {},
   "outputs": [],
   "source": [
    "for(i in 1:length(V(stock_mst)))\n",
    "    stock_mst <- set_vertex_attr(stock_mst, \"sector\", index = V(stock_mst)[i], \n",
    "                                 as.character(name_sector[V(stock_mst)[i]$name]))"
   ]
  },
  {
   "cell_type": "code",
   "execution_count": 164,
   "metadata": {},
   "outputs": [],
   "source": [
    "plot_vine_cluster = function(stock_mst){\n",
    "    \n",
    "    \n",
    "    name_sectors <- read.table('finance_data/Name_sector.csv', sep=',', header=TRUE)\n",
    "    sectors <- group_by(name_sectors, Sector)\n",
    "    colors = palette(rainbow(nrow(unique(summarize(sectors)))))\n",
    "    color_palette = cbind(summarize(sectors), colors)\n",
    "    name_sectors_colors <- left_join(name_sectors, color_palette, by='Sector')\n",
    "    vertex_colors = rep(\"#000000\", length(V(stock_mst)))\n",
    "    for (v in V(stock_mst)$name) {\n",
    "       vertex_colors[which(V(stock_mst)$name == v)] = as.character(name_sectors_colors[which(name_sectors_colors$Symbol == v), \n",
    "                                                                                       3]) \n",
    "    }\n",
    "\n",
    "    plot(stock_mst, vertex.size=3, vertex.label=NA, vertex.color=vertex_colors)\n",
    "    legend(x = -1.5, y = 1.4, legend=unlist(color_palette[1]), fill=unlist(color_palette[2]), ncol=1, cex=0.6)\n",
    "}"
   ]
  },
  {
   "cell_type": "code",
   "execution_count": 165,
   "metadata": {},
   "outputs": [
    {
     "data": {
      "image/png": "[encoded data removed]",
      "text/plain": [
       "Plot with title \"\""
      ]
     },
     "metadata": {},
     "output_type": "display_data"
    }
   ],
   "source": [
    "plot_vine_cluster(stock_mst)"
   ]
  },
  {
   "cell_type": "markdown",
   "metadata": {},
   "source": [
    "<h2> Sector Clustering in MSTs </h2>"
   ]
  },
  {
   "cell_type": "code",
   "execution_count": 61,
   "metadata": {},
   "outputs": [],
   "source": [
    "calculate_alpha = function(stock_mst){\n",
    "\n",
    "    S = table(name_sector)\n",
    "    Vcount = length(V(stock_mst))\n",
    "    alpha1 = 0\n",
    "    alpha2 = 0\n",
    "\n",
    "\n",
    "    for(vid in 1:Vcount){\n",
    "\n",
    "        sec = V(stock_mst)[vid]$sector\n",
    "        neighb = as.vector(neighbors(stock_mst, vid))\n",
    "\n",
    "        q = 0\n",
    "\n",
    "        for(i in neighb)\n",
    "            if(V(stock_mst)[i]$sector == sec)\n",
    "                q = q + 1\n",
    "\n",
    "        alpha1 = alpha1 +  q/length(neighb)\n",
    "        alpha2 = alpha2 +  S[sec] / Vcount\n",
    "\n",
    "    }\n",
    "\n",
    "    cat(\"Alpha1 = \", alpha1 / Vcount)\n",
    "    cat(\"\\nAlpha2 = \", alpha2 / Vcount)\n",
    "\n",
    "}"
   ]
  },
  {
   "cell_type": "code",
   "execution_count": 62,
   "metadata": {},
   "outputs": [
    {
     "name": "stdout",
     "output_type": "stream",
     "text": [
      "Alpha1 =  0.8289301\n",
      "Alpha2 =  0.1168967"
     ]
    }
   ],
   "source": [
    "calculate_alpha(stock_mst)"
   ]
  },
  {
   "cell_type": "markdown",
   "metadata": {},
   "source": [
    "<h4> Alpha2 = 0.1141 if we remove the 11 symbols with shorter length from name_sector also </h4>"
   ]
  },
  {
   "cell_type": "markdown",
   "metadata": {},
   "source": [
    "<h2> Correlation Graphs for Weekly Data </h2>"
   ]
  },
  {
   "cell_type": "code",
   "execution_count": 20,
   "metadata": {},
   "outputs": [],
   "source": [
    "stock_returns <- list()\n",
    "\n",
    "for(file_name in list_files){\n",
    "    \n",
    "    stock <- read.csv(paste(\"finance_data/data/\", file_name, sep = \"\"))\n",
    "    close <- unlist(stock['Close'])\n",
    "    dates <- unlist(stock['Date'])\n",
    "\n",
    "    if(length(close) == num_days)\n",
    "        #Monday is day 1 in wday\n",
    "        stock_returns[[gsub(pattern = \"\\\\.csv$\", \"\", file_name)]] <- get_return(close[which(as.POSIXlt(dates)$wday == 1)])\n",
    "}\n",
    "\n",
    "get_edge_list(stock_returns, file_name = \"stock_edge_list_weekly.txt\")"
   ]
  },
  {
   "cell_type": "code",
   "execution_count": 63,
   "metadata": {},
   "outputs": [],
   "source": [
    "edge_list_weekly <- as.matrix(read.table(\"stock_edge_list_weekly.txt\", sep = \"\\t\", \n",
    "                                         header = FALSE, quote = \"\", check.names = FALSE))\n",
    "colnames(edge_list_weekly) = c(\"stock_i\", \"stock_j\", \"weight\", \"\\t\")\n",
    "stock_network_weekly = graph.data.frame(edge_list_weekly, directed=FALSE)"
   ]
  },
  {
   "cell_type": "code",
   "execution_count": 64,
   "metadata": {},
   "outputs": [
    {
     "name": "stdout",
     "output_type": "stream",
     "text": [
      "Number of edges in the MST of correlation graph =  493"
     ]
    }
   ],
   "source": [
    "stock_mst_weekly = mst(stock_network_weekly)\n",
    "cat(\"Number of edges in the MST of correlation graph = \", length(E(stock_mst_weekly)))"
   ]
  },
  {
   "cell_type": "code",
   "execution_count": 73,
   "metadata": {},
   "outputs": [],
   "source": [
    "for(i in 1:length(V(stock_mst_weekly)))\n",
    "    stock_mst_weekly <- set_vertex_attr(stock_mst_weekly, \"sector\", index = V(stock_mst_weekly)[i], \n",
    "                                 as.character(name_sector[V(stock_mst_weekly)[i]$name]))\n"
   ]
  },
  {
   "cell_type": "code",
   "execution_count": 66,
   "metadata": {},
   "outputs": [
    {
     "data": {
      "image/png": "[encoded data removed]",
      "text/plain": [
       "Plot with title \"Histogram of Correlation Graph Weekly Edge Weights\""
      ]
     },
     "metadata": {},
     "output_type": "display_data"
    }
   ],
   "source": [
    "hist(as.numeric(edge_list_weekly[, 3]),\n",
    "     xlab = \"Edge Weight\", main = \"Histogram of Correlation Graph Weekly Edge Weights\")"
   ]
  },
  {
   "cell_type": "code",
   "execution_count": 167,
   "metadata": {},
   "outputs": [
    {
     "data": {
      "image/png": "[encoded data removed]",
      "text/plain": [
       "Plot with title \"\""
      ]
     },
     "metadata": {},
     "output_type": "display_data"
    }
   ],
   "source": [
    "plot_vine_cluster(stock_mst_weekly)"
   ]
  },
  {
   "cell_type": "code",
   "execution_count": 74,
   "metadata": {},
   "outputs": [
    {
     "name": "stdout",
     "output_type": "stream",
     "text": [
      "Alpha1 =  0.7453313\n",
      "Alpha2 =  0.1168967"
     ]
    }
   ],
   "source": [
    "calculate_alpha(stock_mst_weekly)"
   ]
  }
 ],
 "metadata": {
  "kernelspec": {
   "display_name": "R",
   "language": "R",
   "name": "ir"
  },
  "language_info": {
   "codemirror_mode": "r",
   "file_extension": ".r",
   "mimetype": "text/x-r-source",
   "name": "R",
   "pygments_lexer": "r",
   "version": "3.4.3"
  }
 },
 "nbformat": 4,
 "nbformat_minor": 2
}
