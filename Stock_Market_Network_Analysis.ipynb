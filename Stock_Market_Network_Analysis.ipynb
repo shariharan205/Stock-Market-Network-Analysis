{
 "cells": [
  {
   "cell_type": "markdown",
   "metadata": {},
   "source": [
    "<h1> Stock Market Graph Analysis </h1>"
   ]
  },
  {
   "cell_type": "code",
   "execution_count": 2,
   "metadata": {},
   "outputs": [],
   "source": [
    "library('igraph')\n",
    "library('dplyr')\n",
    "library('anytime')"
   ]
  },
  {
   "cell_type": "code",
   "execution_count": 3,
   "metadata": {},
   "outputs": [],
   "source": [
    "num_days = 765\n",
    "list_files <- list.files(path = \"finance_data/data/\", pattern = \"*.csv\")"
   ]
  },
  {
   "cell_type": "markdown",
   "metadata": {},
   "source": [
    "<h2> Helper Functions </h2>"
   ]
  },
  {
   "cell_type": "code",
   "execution_count": 4,
   "metadata": {},
   "outputs": [],
   "source": [
    "get_return = function(a, unnormalize = FALSE){\n",
    "    \n",
    "    pi_t = a\n",
    "    \n",
    "    pi_t_1 = c(pi_t[1], pi_t)\n",
    "    pi_t_1 = pi_t_1[1:(length(pi_t_1)-1)]\n",
    "    \n",
    "    qi_t = (pi_t - pi_t_1) / pi_t_1\n",
    "    \n",
    "    r_t = log(1 + qi_t)\n",
    "    \n",
    "    if(unnormalize)\n",
    "        return(qi_t)\n",
    "    else\n",
    "        return(r_t)\n",
    "}"
   ]
  },
  {
   "cell_type": "code",
   "execution_count": 5,
   "metadata": {},
   "outputs": [],
   "source": [
    "get_correlation = function(i, j){\n",
    "    \n",
    "    num = mean(i*j) - mean(i) * mean(j)\n",
    "    den = (mean(i^2) - mean(i)^2) * (mean(j^2) - mean(j)^2)\n",
    "    return(num / sqrt(den))\n",
    "    \n",
    "}"
   ]
  },
  {
   "cell_type": "code",
   "execution_count": 6,
   "metadata": {},
   "outputs": [],
   "source": [
    "get_edge_list = function(stock_returns, file_name){\n",
    "    \n",
    "    \n",
    "    file.create(file_name)\n",
    "    stocks <- names(stock_returns)\n",
    "    edge_list <- data.frame(matrix(ncol = 3, nrow = 0))\n",
    "    x <- c(\"stock_i\", \"stock_j\", \"weight\")\n",
    "    colnames(edge_list) <- x\n",
    "\n",
    "    for(i in 1:(length(stocks)-1)){\n",
    "        for(j in (i+1):length(stocks)){\n",
    "            corr = get_correlation(stock_returns[[i]], stock_returns[[j]])\n",
    "            weight = sqrt(2*(1 - corr))\n",
    "            #edge_list <- rbind(edge_list, data.frame(\"stock_i\" = stocks[i],  \"stock_j\" = stocks[j], \"weight\" = weight))\n",
    "            cat(paste(stocks[i],stocks[j],weight,\"\\n\",sep = \"\\t\"), file = file_name, append = TRUE)\n",
    "            \n",
    "        }\n",
    "    }\n",
    "}"
   ]
  },
  {
   "cell_type": "code",
   "execution_count": 7,
   "metadata": {},
   "outputs": [],
   "source": [
    "get_stock_returns = function(unnormalize_flag = FALSE){\n",
    "    \n",
    "    stock_returns <- list()\n",
    "\n",
    "    for(file_name in list_files){\n",
    "\n",
    "        stock <- read.csv(paste(\"finance_data/data/\", file_name, sep = \"\"))\n",
    "        close <- unlist(stock['Close'])\n",
    "\n",
    "        if(length(close) == num_days)\n",
    "            stock_returns[[gsub(pattern = \"\\\\.csv$\", \"\", file_name)]] <- get_return(close, unnormalize =  unnormalize_flag)\n",
    "    }\n",
    "\n",
    "        return(stock_returns)\n",
    "\n",
    "}"
   ]
  },
  {
   "cell_type": "code",
   "execution_count": 83,
   "metadata": {},
   "outputs": [],
   "source": [
    "get_edge_list(get_stock_returns(), \"stock_edge_list.txt\")"
   ]
  },
  {
   "cell_type": "code",
   "execution_count": 4,
   "metadata": {},
   "outputs": [],
   "source": [
    "edge_list <- as.matrix(read.table('stock_edge_list.txt', sep = \"\\t\", \n",
    "                                         header = FALSE, quote = \"\", check.names = FALSE))\n",
    "colnames(edge_list) = c(\"stock_i\", \"stock_j\", \"weight\", \"\\t\")\n",
    "stock_network = graph.data.frame(edge_list, directed=FALSE)"
   ]
  },
  {
   "cell_type": "markdown",
   "metadata": {},
   "source": [
    "<h2> Graph Properties </h2>"
   ]
  },
  {
   "cell_type": "code",
   "execution_count": 5,
   "metadata": {},
   "outputs": [
    {
     "name": "stdout",
     "output_type": "stream",
     "text": [
      "Is graph weighted?  TRUE\n",
      "Number of edges in the correlation graph =  121771\n",
      "Number of vertices in the correlation graph =  494"
     ]
    }
   ],
   "source": [
    "cat(\"Is graph weighted? \", is_weighted(stock_network))\n",
    "cat(\"\\nNumber of edges in the correlation graph = \", length(E(stock_network)))\n",
    "cat(\"\\nNumber of vertices in the correlation graph = \", length(V(stock_network)))"
   ]
  }
 ],
 "metadata": {
  "kernelspec": {
   "display_name": "R",
   "language": "R",
   "name": "ir"
  },
  "language_info": {
   "codemirror_mode": "r",
   "file_extension": ".r",
   "mimetype": "text/x-r-source",
   "name": "R",
   "pygments_lexer": "r",
   "version": "3.4.3"
  }
 },
 "nbformat": 4,
 "nbformat_minor": 2
}
